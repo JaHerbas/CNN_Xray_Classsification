{
 "cells": [
  {
   "cell_type": "markdown",
   "metadata": {},
   "source": [
    "# List of Functions\n",
    "\n",
    "This document contains all the functions used on this repository on the different Notebooks"
   ]
  },
  {
   "cell_type": "markdown",
   "metadata": {},
   "source": [
    "<b>Function to access the number of images inside the NORMAL and PNEUMONIA folders</b>"
   ]
  },
  {
   "cell_type": "code",
   "execution_count": null,
   "metadata": {},
   "outputs": [],
   "source": [
    "# Function that will access all the subset folders (train, test and val) to address the numbers of X-rays per folder\n",
    "\n",
    "def number_of_xrays(xray_normal, xray_pneumo):  \n",
    "    \n",
    "# X-Rays classified as 'NORMAL' or equal to 'No Pneumonia'\n",
    "\n",
    "    print('Number of X-rays classified as NORMAL:', len(os.listdir(xray_normal))) # Number of x-rays classified as 'NORMAL'\n",
    "\n",
    "# X-rays classified as 'PNEUMONIA' meaning that the patient has pneumonia\n",
    "\n",
    "    print('Number of X-rays classified as PNEUMONIA:', len(os.listdir(xray_pneumo))) # Number of x-rays classified as 'PNEUMONIA'\n",
    "\n",
    "# Total number of X-rays\n",
    "\n",
    "    print('Total number of Train X-rays:', len(os.listdir(xray_normal)) + len(os.listdir(xray_pneumo)))"
   ]
  },
  {
   "cell_type": "markdown",
   "metadata": {},
   "source": [
    "<b>Function that randomly selects a pair of images, one from the NORMAL and a second from the PNEUMONIA folders, then displays them using subplots"
   ]
  },
  {
   "cell_type": "code",
   "execution_count": null,
   "metadata": {},
   "outputs": [],
   "source": [
    "def X_ray_QC(path, set_normal, set_pneumo):\n",
    "    \n",
    "# X-Rays classified as 'NORMAL' or equal to 'No-Pneumonia'\n",
    "\n",
    "    rand_norm = np.random.randint(0, len(os.listdir(path)))\n",
    "    norm_xray = os.listdir(set_normal)[rand_norm]\n",
    "    print('Normal xray file name:', norm_xray)\n",
    "\n",
    "# X-rays classified as 'PNEUMONIA' meaning that the patient has pneumonia\n",
    "\n",
    "    rand_pneumo = np.random.randint(0, len(os.listdir(path)))\n",
    "    pneumo_xray = os.listdir(set_pneumo)[rand_pneumo]\n",
    "    print('Pneumo xray file name:', pneumo_xray)\n",
    "\n",
    "# Image loading\n",
    "\n",
    "    norm_xray_address = set_normal + norm_xray\n",
    "    pneumo_xray_address = set_pneumo + pneumo_xray\n",
    "\n",
    "    normal_load = Image.open(norm_xray_address)\n",
    "    pneumonia_load = Image.open(pneumo_xray_address)\n",
    "\n",
    "# Plotting the X-ray files:\n",
    "\n",
    "    figure = plt.figure(figsize=(14,6))\n",
    "\n",
    "    ax1 = figure.add_subplot(1,2,1)\n",
    "    xray_plot = plt.imshow(normal_load, cmap='gray')\n",
    "    plt.rcParams[\"figure.facecolor\"] = \"lightblue\"\n",
    "    ax1.set_title('NORMAL', fontsize=14)\n",
    "    ax1.axis('on')\n",
    "    \n",
    "    ax2 = figure.add_subplot(1,2,2)\n",
    "    xray_plot = plt.imshow(pneumonia_load, cmap='gray')\n",
    "    ax2.set_title('PNEUMONIA', fontsize=14)\n",
    "    ax2.axis('on')\n",
    "    plt.show()"
   ]
  },
  {
   "cell_type": "markdown",
   "metadata": {},
   "source": [
    "<b>Function that plots the number of NORMAL and PNEUMONIA images to check subset balance"
   ]
  },
  {
   "cell_type": "code",
   "execution_count": null,
   "metadata": {},
   "outputs": [],
   "source": [
    "def scaling_check(data):\n",
    "    \n",
    "    case_count = data['diagnosis'].value_counts() # 'data' is our input which will be any of the 3 dataframes created\n",
    "    print('Legend:')\n",
    "    print(case_count)\n",
    "    \n",
    "    plt.figure(figsize=(10,6))\n",
    "    sns.barplot(x=case_count.index, y=case_count.values)\n",
    "    plt.title('Diagnosis Balance Plot', fontsize=16)\n",
    "    plt.xlabel('Diagnosis', fontsize=12)\n",
    "    plt.ylabel('Number of Cases', fontsize=12)\n",
    "    plt.xticks(range(len(case_count.index)), ['NORMAL(0)', 'PNEUMONIA(1)'])\n",
    "    plt.show()"
   ]
  },
  {
   "cell_type": "code",
   "execution_count": null,
   "metadata": {},
   "outputs": [],
   "source": [
    "def dir_file_count(directory):\n",
    "    return sum([len(files) for r, d, files in os.walk(directory)])"
   ]
  },
  {
   "cell_type": "markdown",
   "metadata": {},
   "source": [
    "<b>Function to resize (re-scale) images from bot folders at once and creates a test data and test labels list which will be used for the model evaluation</b>"
   ]
  },
  {
   "cell_type": "code",
   "execution_count": null,
   "metadata": {},
   "outputs": [],
   "source": [
    "def data_processing(img_dims, batch_size):\n",
    "    \n",
    "\n",
    "    test_data = []\n",
    "    test_labels = []\n",
    "\n",
    "    for cond in ['/NORMAL/', '/PNEUMONIA/']:\n",
    "        for img in (os.listdir(data_dir + 'test' + cond)):\n",
    "                img = plt.imread(data_dir +'test'+cond+img)\n",
    "                img = cv2.resize(img, (img_dims, img_dims))\n",
    "                img = np.dstack([img, img, img])\n",
    "                img = img.astype('float32') / 255\n",
    "                if cond=='/NORMAL/':\n",
    "                    label = 0\n",
    "                elif cond=='/PNEUMONIA/':\n",
    "                    label = 1\n",
    "                test_data.append(img)\n",
    "                test_labels.append(label)\n",
    "        \n",
    "        test_data = np.array(test_data)\n",
    "        test_labels = np.array(test_labels)\n",
    "    \n",
    "    return (train_gen, test_gen, test_data, test_labels)"
   ]
  },
  {
   "cell_type": "markdown",
   "metadata": {},
   "source": [
    "<b>Function to evaluate the model performance via plotting of the loss, val_loss, acc, and acc_loss</b>"
   ]
  },
  {
   "cell_type": "code",
   "execution_count": null,
   "metadata": {},
   "outputs": [],
   "source": [
    "def model_perf_vis(history):\n",
    "    \n",
    "    history_dict = history.history\n",
    "    train_loss_values = history_dict['loss']\n",
    "    val_loss_values = history_dict['val_loss']\n",
    "    train_accuracy = history_dict['acc']\n",
    "    val_accuracy = history_dict['val_acc']\n",
    "\n",
    "    fig, axis = plt.subplots(ncols=1, nrows=2, figsize=(7,7))\n",
    "    \n",
    "    # Loss plot \n",
    "    \n",
    "    epochs = range(1, len(val_loss_values) + 1)\n",
    "    chart1 = sns.lineplot(ax=axis[0], x=epochs, y=train_loss_values, label='Training Loss')\n",
    "    \n",
    "    chart1 = sns.lineplot(ax=axis[0], x=epochs, y=val_loss_values, label='Validation Loss')\n",
    "    chart1.set(xlabel='Epochs', ylabel='Loss')\n",
    "    chart1.axes.set_title('Model Loss', fontsize=20)\n",
    "    chart1.grid(b=True, which='major', axis='y')\n",
    "    \n",
    "    chart2 = sns.lineplot(ax=axis[1], x=epochs, y=train_accuracy, label='Training Accuracy')\n",
    "    chart2 = sns.lineplot(ax=axis[1], x=epochs, y=val_accuracy, label='Validation Accuracy')\n",
    "    chart2.set(xlabel='Epochs', ylabel='Accuracy')\n",
    "    chart2.axes.set_title('Model Accuracy', fontsize=20)\n",
    "    chart2.grid(b=True, which='major', axis='y')\n",
    "    \n",
    "    plt.tight_layout()\n",
    "    plt.show()"
   ]
  },
  {
   "cell_type": "markdown",
   "metadata": {},
   "source": [
    "<b>Function to quickly fit the models with fixed parameters, including 20 epochs</b>"
   ]
  },
  {
   "cell_type": "code",
   "execution_count": null,
   "metadata": {},
   "outputs": [],
   "source": [
    "def model_fitting(model_N, history_N):\n",
    "    \n",
    "    optimizer=optimizers.Adam()\n",
    "    loss='categorical_crossentropy'\n",
    "    metrics=['accuracy']\n",
    "    epochs = 20\n",
    "    steps_per_epoch=100\n",
    "    validation_steps=50\n",
    "\n",
    "    model_N.compile(optimizer, loss=loss, metrics=metrics)\n",
    "\n",
    "    history_N = model_N.fit_generator(train_generator, \n",
    "                                      steps_per_epoch=steps_per_epoch, \n",
    "                                      epochs=epochs, \n",
    "                                      verbose=2, \n",
    "                                      validation_data=validation_generator, \n",
    "                                      validation_steps=validation_steps)"
   ]
  },
  {
   "cell_type": "markdown",
   "metadata": {},
   "source": [
    "<b>Only used for README images:</b>"
   ]
  },
  {
   "cell_type": "markdown",
   "metadata": {},
   "source": [
    "<b>Function created to display 2 rows x 5 columns of x-rays images to show on the README notebook</b>"
   ]
  },
  {
   "cell_type": "code",
   "execution_count": null,
   "metadata": {},
   "outputs": [],
   "source": [
    "pneumonia_samples = (train_data[train_data['label']==1]['image'].iloc[:5]).tolist()\n",
    "normal_samples = (train_data[train_data['label']==0]['image'].iloc[:5]).tolist()\n",
    "\n",
    "# Concat the data in a single list and del the above two list\n",
    "samples = pneumonia_samples + normal_samples\n",
    "del pneumonia_samples, normal_samples\n",
    "\n",
    "# Plot the data \n",
    "f, ax = plt.subplots(2,5, figsize=(45,15))\n",
    "for i in range(10):\n",
    "    img = imread(samples[i])\n",
    "    ax[i//5, i%5].imshow(img, cmap='gray')\n",
    "    if i<5:\n",
    "        ax[i//5, i%5].set_title(\"Pneumonia\")\n",
    "    else:\n",
    "        ax[i//5, i%5].set_title(\"Normal\")\n",
    "    ax[i//5, i%5].axis('on')\n",
    "    ax[i//5, i%5].set_aspect('auto')\n",
    "plt.show()"
   ]
  },
  {
   "cell_type": "code",
   "execution_count": null,
   "metadata": {},
   "outputs": [],
   "source": []
  },
  {
   "cell_type": "code",
   "execution_count": null,
   "metadata": {},
   "outputs": [],
   "source": []
  }
 ],
 "metadata": {
  "kernelspec": {
   "display_name": "learn-env",
   "language": "python",
   "name": "learn-env"
  },
  "language_info": {
   "codemirror_mode": {
    "name": "ipython",
    "version": 3
   },
   "file_extension": ".py",
   "mimetype": "text/x-python",
   "name": "python",
   "nbconvert_exporter": "python",
   "pygments_lexer": "ipython3",
   "version": "3.6.9"
  },
  "toc": {
   "base_numbering": 1,
   "nav_menu": {},
   "number_sections": true,
   "sideBar": true,
   "skip_h1_title": false,
   "title_cell": "Table of Contents",
   "title_sidebar": "Contents",
   "toc_cell": false,
   "toc_position": {},
   "toc_section_display": true,
   "toc_window_display": false
  },
  "varInspector": {
   "cols": {
    "lenName": 16,
    "lenType": 16,
    "lenVar": 40
   },
   "kernels_config": {
    "python": {
     "delete_cmd_postfix": "",
     "delete_cmd_prefix": "del ",
     "library": "var_list.py",
     "varRefreshCmd": "print(var_dic_list())"
    },
    "r": {
     "delete_cmd_postfix": ") ",
     "delete_cmd_prefix": "rm(",
     "library": "var_list.r",
     "varRefreshCmd": "cat(var_dic_list()) "
    }
   },
   "types_to_exclude": [
    "module",
    "function",
    "builtin_function_or_method",
    "instance",
    "_Feature"
   ],
   "window_display": false
  }
 },
 "nbformat": 4,
 "nbformat_minor": 4
}
